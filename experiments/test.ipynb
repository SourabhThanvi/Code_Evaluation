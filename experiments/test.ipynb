{
 "cells": [
  {
   "cell_type": "code",
   "execution_count": null,
   "id": "ee8fd4b7",
   "metadata": {},
   "outputs": [],
   "source": [
    "system_prompt = '''\n",
    "you are a helpful ai assistant who is an expert in writting python code. Take query in natural laguage from the user and based on the query generate genreic code  \n",
    "while generating the code keep few steps in thoughs :-\n",
    "1. Classify the prob into :- AI/ML prob, Data Analysis prob, Backend Prob.\n",
    "2. Break down the query funcnality into multiple small parts. \n",
    "3. Generate code for each part sequentially, after generating code of a part,\n",
    "reason your answer and recheck the code for all the edge casses possible, \n",
    "check if the lib is deppricated or not, check if is their any syntax error,\n",
    "check if the code is maintainable, check if the code is clean.\n",
    "4. Do this for the parts seq. and then recheck the whole code keeping its flow in mind.\n",
    "'''\n",
    "\n",
    "human_prompt = '''\n",
    "'''"
   ]
  },
  {
   "cell_type": "code",
   "execution_count": null,
   "id": "788e40aa",
   "metadata": {},
   "outputs": [],
   "source": []
  }
 ],
 "metadata": {
  "kernelspec": {
   "display_name": "Python (customer-segmentation-self)",
   "language": "python",
   "name": "customer-segmentation-self"
  },
  "language_info": {
   "codemirror_mode": {
    "name": "ipython",
    "version": 3
   },
   "file_extension": ".py",
   "mimetype": "text/x-python",
   "name": "python",
   "nbconvert_exporter": "python",
   "pygments_lexer": "ipython3",
   "version": "3.10.16"
  }
 },
 "nbformat": 4,
 "nbformat_minor": 5
}
